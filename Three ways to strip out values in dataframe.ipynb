{
 "cells": [
  {
   "cell_type": "code",
   "execution_count": 1,
   "id": "152c73a4",
   "metadata": {},
   "outputs": [],
   "source": [
    "import pandas as pd"
   ]
  },
  {
   "cell_type": "code",
   "execution_count": 2,
   "id": "79966806",
   "metadata": {},
   "outputs": [
    {
     "name": "stderr",
     "output_type": "stream",
     "text": [
      "C:\\Users\\MAX TECH STORE\\AppData\\Local\\Temp\\ipykernel_10572\\3926593694.py:1: DtypeWarning: Columns (26,29,76) have mixed types. Specify dtype option on import or set low_memory=False.\n",
      "  df = pd.read_csv(\"C:\\\\Users\\\\MAX TECH STORE\\\\Documents\\\\DataScienceProjects\\\\Bootcamp Projects\\\\OneCampus\\\\ONECAMPUS\\\\Data Wrangling Project\\\\Muskets_teamData_V2.csv\")\n"
     ]
    },
    {
     "data": {
      "text/html": [
       "<div>\n",
       "<style scoped>\n",
       "    .dataframe tbody tr th:only-of-type {\n",
       "        vertical-align: middle;\n",
       "    }\n",
       "\n",
       "    .dataframe tbody tr th {\n",
       "        vertical-align: top;\n",
       "    }\n",
       "\n",
       "    .dataframe thead th {\n",
       "        text-align: right;\n",
       "    }\n",
       "</style>\n",
       "<table border=\"1\" class=\"dataframe\">\n",
       "  <thead>\n",
       "    <tr style=\"text-align: right;\">\n",
       "      <th></th>\n",
       "      <th>ID</th>\n",
       "      <th>Name</th>\n",
       "      <th>LongName</th>\n",
       "      <th>photoUrl</th>\n",
       "      <th>playerUrl</th>\n",
       "      <th>Nationality</th>\n",
       "      <th>Age</th>\n",
       "      <th>↓OVA</th>\n",
       "      <th>POT</th>\n",
       "      <th>Club</th>\n",
       "      <th>...</th>\n",
       "      <th>A/W</th>\n",
       "      <th>D/W</th>\n",
       "      <th>IR</th>\n",
       "      <th>PAC</th>\n",
       "      <th>SHO</th>\n",
       "      <th>PAS</th>\n",
       "      <th>DRI</th>\n",
       "      <th>DEF</th>\n",
       "      <th>PHY</th>\n",
       "      <th>Hits</th>\n",
       "    </tr>\n",
       "  </thead>\n",
       "  <tbody>\n",
       "    <tr>\n",
       "      <th>0</th>\n",
       "      <td>158023</td>\n",
       "      <td>L. Messi</td>\n",
       "      <td>Lionel Messi</td>\n",
       "      <td>https://cdn.sofifa.com/players/158/023/21_60.png</td>\n",
       "      <td>http://sofifa.com/player/158023/lionel-messi/2...</td>\n",
       "      <td>Argentina</td>\n",
       "      <td>33</td>\n",
       "      <td>93.0</td>\n",
       "      <td>93.0</td>\n",
       "      <td>\\n\\n\\n\\nFC Barcelona</td>\n",
       "      <td>...</td>\n",
       "      <td>Medium</td>\n",
       "      <td>Low</td>\n",
       "      <td>5 ★</td>\n",
       "      <td>85.0</td>\n",
       "      <td>92.0</td>\n",
       "      <td>91.0</td>\n",
       "      <td>95.0</td>\n",
       "      <td>38.0</td>\n",
       "      <td>65.0</td>\n",
       "      <td>771</td>\n",
       "    </tr>\n",
       "    <tr>\n",
       "      <th>1</th>\n",
       "      <td>20801</td>\n",
       "      <td>Cristiano Ronaldo</td>\n",
       "      <td>C. Ronaldo dos Santos Aveiro</td>\n",
       "      <td>https://cdn.sofifa.com/players/020/801/21_60.png</td>\n",
       "      <td>http://sofifa.com/player/20801/c-ronaldo-dos-s...</td>\n",
       "      <td>Portugal</td>\n",
       "      <td>35</td>\n",
       "      <td>92.0</td>\n",
       "      <td>92.0</td>\n",
       "      <td>\\n\\n\\n\\nJuventus</td>\n",
       "      <td>...</td>\n",
       "      <td>High</td>\n",
       "      <td>Low</td>\n",
       "      <td>5 ★</td>\n",
       "      <td>89.0</td>\n",
       "      <td>93.0</td>\n",
       "      <td>81.0</td>\n",
       "      <td>89.0</td>\n",
       "      <td>35.0</td>\n",
       "      <td>77.0</td>\n",
       "      <td>562</td>\n",
       "    </tr>\n",
       "    <tr>\n",
       "      <th>2</th>\n",
       "      <td>200389</td>\n",
       "      <td>J. Oblak</td>\n",
       "      <td>Jan Oblak</td>\n",
       "      <td>https://cdn.sofifa.com/players/200/389/21_60.png</td>\n",
       "      <td>http://sofifa.com/player/200389/jan-oblak/210006/</td>\n",
       "      <td>Slovenia</td>\n",
       "      <td>27</td>\n",
       "      <td>91.0</td>\n",
       "      <td>93.0</td>\n",
       "      <td>\\n\\n\\n\\nAtlético Madrid</td>\n",
       "      <td>...</td>\n",
       "      <td>Medium</td>\n",
       "      <td>Medium</td>\n",
       "      <td>3 ★</td>\n",
       "      <td>87.0</td>\n",
       "      <td>92.0</td>\n",
       "      <td>78.0</td>\n",
       "      <td>90.0</td>\n",
       "      <td>52.0</td>\n",
       "      <td>90.0</td>\n",
       "      <td>150</td>\n",
       "    </tr>\n",
       "    <tr>\n",
       "      <th>3</th>\n",
       "      <td>192985</td>\n",
       "      <td>K. De Bruyne</td>\n",
       "      <td>Kevin De Bruyne</td>\n",
       "      <td>https://cdn.sofifa.com/players/192/985/21_60.png</td>\n",
       "      <td>http://sofifa.com/player/192985/kevin-de-bruyn...</td>\n",
       "      <td>Belgium</td>\n",
       "      <td>29</td>\n",
       "      <td>91.0</td>\n",
       "      <td>91.0</td>\n",
       "      <td>\\n\\n\\n\\nManchester City</td>\n",
       "      <td>...</td>\n",
       "      <td>High</td>\n",
       "      <td>High</td>\n",
       "      <td>4 ★</td>\n",
       "      <td>76.0</td>\n",
       "      <td>86.0</td>\n",
       "      <td>93.0</td>\n",
       "      <td>88.0</td>\n",
       "      <td>64.0</td>\n",
       "      <td>78.0</td>\n",
       "      <td>207</td>\n",
       "    </tr>\n",
       "    <tr>\n",
       "      <th>4</th>\n",
       "      <td>190871</td>\n",
       "      <td>Neymar Jr</td>\n",
       "      <td>Neymar da Silva Santos Jr.</td>\n",
       "      <td>https://cdn.sofifa.com/players/190/871/21_60.png</td>\n",
       "      <td>http://sofifa.com/player/190871/neymar-da-silv...</td>\n",
       "      <td>Brazil</td>\n",
       "      <td>28</td>\n",
       "      <td>91.0</td>\n",
       "      <td>91.0</td>\n",
       "      <td>\\n\\n\\n\\nParis Saint-Germain</td>\n",
       "      <td>...</td>\n",
       "      <td>High</td>\n",
       "      <td>Medium</td>\n",
       "      <td>5 ★</td>\n",
       "      <td>91.0</td>\n",
       "      <td>85.0</td>\n",
       "      <td>86.0</td>\n",
       "      <td>94.0</td>\n",
       "      <td>36.0</td>\n",
       "      <td>59.0</td>\n",
       "      <td>595</td>\n",
       "    </tr>\n",
       "  </tbody>\n",
       "</table>\n",
       "<p>5 rows × 77 columns</p>\n",
       "</div>"
      ],
      "text/plain": [
       "       ID               Name                      LongName  \\\n",
       "0  158023           L. Messi                  Lionel Messi   \n",
       "1   20801  Cristiano Ronaldo  C. Ronaldo dos Santos Aveiro   \n",
       "2  200389           J. Oblak                     Jan Oblak   \n",
       "3  192985       K. De Bruyne               Kevin De Bruyne   \n",
       "4  190871          Neymar Jr    Neymar da Silva Santos Jr.   \n",
       "\n",
       "                                           photoUrl  \\\n",
       "0  https://cdn.sofifa.com/players/158/023/21_60.png   \n",
       "1  https://cdn.sofifa.com/players/020/801/21_60.png   \n",
       "2  https://cdn.sofifa.com/players/200/389/21_60.png   \n",
       "3  https://cdn.sofifa.com/players/192/985/21_60.png   \n",
       "4  https://cdn.sofifa.com/players/190/871/21_60.png   \n",
       "\n",
       "                                           playerUrl Nationality  Age  ↓OVA  \\\n",
       "0  http://sofifa.com/player/158023/lionel-messi/2...   Argentina   33  93.0   \n",
       "1  http://sofifa.com/player/20801/c-ronaldo-dos-s...    Portugal   35  92.0   \n",
       "2  http://sofifa.com/player/200389/jan-oblak/210006/    Slovenia   27  91.0   \n",
       "3  http://sofifa.com/player/192985/kevin-de-bruyn...     Belgium   29  91.0   \n",
       "4  http://sofifa.com/player/190871/neymar-da-silv...      Brazil   28  91.0   \n",
       "\n",
       "    POT                         Club  ...     A/W     D/W   IR   PAC   SHO  \\\n",
       "0  93.0         \\n\\n\\n\\nFC Barcelona  ...  Medium     Low  5 ★  85.0  92.0   \n",
       "1  92.0             \\n\\n\\n\\nJuventus  ...    High     Low  5 ★  89.0  93.0   \n",
       "2  93.0      \\n\\n\\n\\nAtlético Madrid  ...  Medium  Medium  3 ★  87.0  92.0   \n",
       "3  91.0      \\n\\n\\n\\nManchester City  ...    High    High  4 ★  76.0  86.0   \n",
       "4  91.0  \\n\\n\\n\\nParis Saint-Germain  ...    High  Medium  5 ★  91.0  85.0   \n",
       "\n",
       "    PAS   DRI   DEF   PHY Hits  \n",
       "0  91.0  95.0  38.0  65.0  771  \n",
       "1  81.0  89.0  35.0  77.0  562  \n",
       "2  78.0  90.0  52.0  90.0  150  \n",
       "3  93.0  88.0  64.0  78.0  207  \n",
       "4  86.0  94.0  36.0  59.0  595  \n",
       "\n",
       "[5 rows x 77 columns]"
      ]
     },
     "execution_count": 2,
     "metadata": {},
     "output_type": "execute_result"
    }
   ],
   "source": [
    "df = pd.read_csv(\"C:\\\\Users\\\\MAX TECH STORE\\\\Documents\\\\DataScienceProjects\\\\Bootcamp Projects\\\\OneCampus\\\\ONECAMPUS\\\\Data Wrangling Project\\\\Muskets_teamData_V2.csv\")\n",
    "df.head()"
   ]
  },
  {
   "cell_type": "code",
   "execution_count": 4,
   "id": "78910e8a",
   "metadata": {},
   "outputs": [
    {
     "data": {
      "text/plain": [
       "Index(['ID', 'Name', 'LongName', 'photoUrl', 'playerUrl', 'Nationality', 'Age',\n",
       "       '↓OVA', 'POT', 'Club', 'Contract', 'Positions', 'Height', 'Weight',\n",
       "       'Preferred Foot', 'BOV', 'Best Position', 'Joined', 'Loan Date End',\n",
       "       'Value', 'Wage', 'Release Clause', 'Attacking', 'Crossing', 'Finishing',\n",
       "       'Heading Accuracy', 'Short Passing', 'Volleys', 'Skill', 'Dribbling',\n",
       "       'Curve', 'FK Accuracy', 'Long Passing', 'Ball Control', 'Movement',\n",
       "       'Acceleration', 'Sprint Speed', 'Agility', 'Reactions', 'Balance',\n",
       "       'Power', 'Shot Power', 'Jumping', 'Stamina', 'Strength', 'Long Shots',\n",
       "       'Mentality', 'Aggression', 'Interceptions', 'Positioning', 'Vision',\n",
       "       'Penalties', 'Composure', 'Defending', 'Marking', 'Standing Tackle',\n",
       "       'Sliding Tackle', 'Goalkeeping', 'GK Diving', 'GK Handling',\n",
       "       'GK Kicking', 'GK Positioning', 'GK Reflexes', 'Total Stats',\n",
       "       'Base Stats', 'W/F', 'SM', 'A/W', 'D/W', 'IR', 'PAC', 'SHO', 'PAS',\n",
       "       'DRI', 'DEF', 'PHY', 'Hits'],\n",
       "      dtype='object')"
      ]
     },
     "execution_count": 4,
     "metadata": {},
     "output_type": "execute_result"
    }
   ],
   "source": [
    "df.columns"
   ]
  },
  {
   "cell_type": "code",
   "execution_count": 11,
   "id": "5ef90863",
   "metadata": {},
   "outputs": [
    {
     "data": {
      "text/html": [
       "<div>\n",
       "<style scoped>\n",
       "    .dataframe tbody tr th:only-of-type {\n",
       "        vertical-align: middle;\n",
       "    }\n",
       "\n",
       "    .dataframe tbody tr th {\n",
       "        vertical-align: top;\n",
       "    }\n",
       "\n",
       "    .dataframe thead th {\n",
       "        text-align: right;\n",
       "    }\n",
       "</style>\n",
       "<table border=\"1\" class=\"dataframe\">\n",
       "  <thead>\n",
       "    <tr style=\"text-align: right;\">\n",
       "      <th></th>\n",
       "      <th>W/F</th>\n",
       "      <th>SM</th>\n",
       "    </tr>\n",
       "  </thead>\n",
       "  <tbody>\n",
       "    <tr>\n",
       "      <th>0</th>\n",
       "      <td>4 ★</td>\n",
       "      <td>4★</td>\n",
       "    </tr>\n",
       "    <tr>\n",
       "      <th>1</th>\n",
       "      <td>4 ★</td>\n",
       "      <td>5★</td>\n",
       "    </tr>\n",
       "    <tr>\n",
       "      <th>2</th>\n",
       "      <td>3 ★</td>\n",
       "      <td>1★</td>\n",
       "    </tr>\n",
       "    <tr>\n",
       "      <th>3</th>\n",
       "      <td>5 ★</td>\n",
       "      <td>4★</td>\n",
       "    </tr>\n",
       "    <tr>\n",
       "      <th>4</th>\n",
       "      <td>5 ★</td>\n",
       "      <td>5★</td>\n",
       "    </tr>\n",
       "    <tr>\n",
       "      <th>...</th>\n",
       "      <td>...</td>\n",
       "      <td>...</td>\n",
       "    </tr>\n",
       "    <tr>\n",
       "      <th>19016</th>\n",
       "      <td>2 ★</td>\n",
       "      <td>2★</td>\n",
       "    </tr>\n",
       "    <tr>\n",
       "      <th>19017</th>\n",
       "      <td>2 ★</td>\n",
       "      <td>2★</td>\n",
       "    </tr>\n",
       "    <tr>\n",
       "      <th>19018</th>\n",
       "      <td>2 ★</td>\n",
       "      <td>2★</td>\n",
       "    </tr>\n",
       "    <tr>\n",
       "      <th>19019</th>\n",
       "      <td>3 ★</td>\n",
       "      <td>2★</td>\n",
       "    </tr>\n",
       "    <tr>\n",
       "      <th>19020</th>\n",
       "      <td>3 ★</td>\n",
       "      <td>2★</td>\n",
       "    </tr>\n",
       "  </tbody>\n",
       "</table>\n",
       "<p>19021 rows × 2 columns</p>\n",
       "</div>"
      ],
      "text/plain": [
       "       W/F  SM\n",
       "0      4 ★  4★\n",
       "1      4 ★  5★\n",
       "2      3 ★  1★\n",
       "3      5 ★  4★\n",
       "4      5 ★  5★\n",
       "...    ...  ..\n",
       "19016  2 ★  2★\n",
       "19017  2 ★  2★\n",
       "19018  2 ★  2★\n",
       "19019  3 ★  2★\n",
       "19020  3 ★  2★\n",
       "\n",
       "[19021 rows x 2 columns]"
      ]
     },
     "execution_count": 11,
     "metadata": {},
     "output_type": "execute_result"
    }
   ],
   "source": [
    "df[['W/F', 'SM']]"
   ]
  },
  {
   "cell_type": "code",
   "execution_count": 8,
   "id": "6d2ce0ff",
   "metadata": {},
   "outputs": [
    {
     "data": {
      "text/html": [
       "<div>\n",
       "<style scoped>\n",
       "    .dataframe tbody tr th:only-of-type {\n",
       "        vertical-align: middle;\n",
       "    }\n",
       "\n",
       "    .dataframe tbody tr th {\n",
       "        vertical-align: top;\n",
       "    }\n",
       "\n",
       "    .dataframe thead th {\n",
       "        text-align: right;\n",
       "    }\n",
       "</style>\n",
       "<table border=\"1\" class=\"dataframe\">\n",
       "  <thead>\n",
       "    <tr style=\"text-align: right;\">\n",
       "      <th></th>\n",
       "      <th>Value</th>\n",
       "      <th>Wage</th>\n",
       "    </tr>\n",
       "  </thead>\n",
       "  <tbody>\n",
       "    <tr>\n",
       "      <th>0</th>\n",
       "      <td>€103.5M</td>\n",
       "      <td>€560K</td>\n",
       "    </tr>\n",
       "    <tr>\n",
       "      <th>1</th>\n",
       "      <td>€63M</td>\n",
       "      <td>€220K</td>\n",
       "    </tr>\n",
       "    <tr>\n",
       "      <th>2</th>\n",
       "      <td>€120M</td>\n",
       "      <td>€125K</td>\n",
       "    </tr>\n",
       "    <tr>\n",
       "      <th>3</th>\n",
       "      <td>€129M</td>\n",
       "      <td>€370K</td>\n",
       "    </tr>\n",
       "    <tr>\n",
       "      <th>4</th>\n",
       "      <td>€132M</td>\n",
       "      <td>€270K</td>\n",
       "    </tr>\n",
       "    <tr>\n",
       "      <th>...</th>\n",
       "      <td>...</td>\n",
       "      <td>...</td>\n",
       "    </tr>\n",
       "    <tr>\n",
       "      <th>19016</th>\n",
       "      <td>€100K</td>\n",
       "      <td>€1K</td>\n",
       "    </tr>\n",
       "    <tr>\n",
       "      <th>19017</th>\n",
       "      <td>€130K</td>\n",
       "      <td>€500</td>\n",
       "    </tr>\n",
       "    <tr>\n",
       "      <th>19018</th>\n",
       "      <td>€120K</td>\n",
       "      <td>€500</td>\n",
       "    </tr>\n",
       "    <tr>\n",
       "      <th>19019</th>\n",
       "      <td>€100K</td>\n",
       "      <td>€2K</td>\n",
       "    </tr>\n",
       "    <tr>\n",
       "      <th>19020</th>\n",
       "      <td>€100K</td>\n",
       "      <td>€1K</td>\n",
       "    </tr>\n",
       "  </tbody>\n",
       "</table>\n",
       "<p>19021 rows × 2 columns</p>\n",
       "</div>"
      ],
      "text/plain": [
       "         Value   Wage\n",
       "0      €103.5M  €560K\n",
       "1         €63M  €220K\n",
       "2        €120M  €125K\n",
       "3        €129M  €370K\n",
       "4        €132M  €270K\n",
       "...        ...    ...\n",
       "19016    €100K    €1K\n",
       "19017    €130K   €500\n",
       "19018    €120K   €500\n",
       "19019    €100K    €2K\n",
       "19020    €100K    €1K\n",
       "\n",
       "[19021 rows x 2 columns]"
      ]
     },
     "execution_count": 8,
     "metadata": {},
     "output_type": "execute_result"
    }
   ],
   "source": [
    "df[[\"Value\", \"Wage\"]]"
   ]
  },
  {
   "cell_type": "code",
   "execution_count": 9,
   "id": "f9921e18",
   "metadata": {},
   "outputs": [],
   "source": [
    "## 1. Using the dtype function and a forloop"
   ]
  },
  {
   "cell_type": "code",
   "execution_count": 12,
   "id": "52aedb6a",
   "metadata": {},
   "outputs": [],
   "source": [
    "for i in df[['W/F', 'SM']]:\n",
    "    if df[i].dtype == \"object\":\n",
    "        df[i] = df[i].str.rstrip('★')"
   ]
  },
  {
   "cell_type": "code",
   "execution_count": 13,
   "id": "2eb6434f",
   "metadata": {},
   "outputs": [
    {
     "data": {
      "text/plain": [
       "0        4 \n",
       "1        4 \n",
       "2        3 \n",
       "3        5 \n",
       "4        5 \n",
       "         ..\n",
       "19016    2 \n",
       "19017    2 \n",
       "19018    2 \n",
       "19019    3 \n",
       "19020    3 \n",
       "Name: W/F, Length: 19021, dtype: object"
      ]
     },
     "execution_count": 13,
     "metadata": {},
     "output_type": "execute_result"
    }
   ],
   "source": [
    "df[\"W/F\"]"
   ]
  },
  {
   "cell_type": "code",
   "execution_count": 14,
   "id": "02c7eacd",
   "metadata": {},
   "outputs": [],
   "source": [
    "## 2. Using the forloop and empty_list"
   ]
  },
  {
   "cell_type": "code",
   "execution_count": 16,
   "id": "2cd1f95f",
   "metadata": {},
   "outputs": [],
   "source": [
    "value = df[\"Value\"]\n",
    "\n",
    "emp_value = []\n",
    "\n",
    "for i in value:\n",
    "    if \"€\" in i:\n",
    "        ans = i.strip(\"€\")\n",
    "    else:\n",
    "        ans = i\n",
    "    emp_value.append(ans)"
   ]
  },
  {
   "cell_type": "code",
   "execution_count": 19,
   "id": "a97f89fe",
   "metadata": {},
   "outputs": [],
   "source": [
    "empty_value = []\n",
    "\n",
    "for i in emp_value:\n",
    "    if \"M\" in i:\n",
    "        ans = i.strip(\"M\")\n",
    "    else:\n",
    "        ans = i\n",
    "    empty_value.append(ans)"
   ]
  },
  {
   "cell_type": "code",
   "execution_count": 21,
   "id": "329f6b71",
   "metadata": {},
   "outputs": [],
   "source": [
    "empty_Value = []\n",
    "\n",
    "for i in empty_value:\n",
    "    if \"K\" in i:\n",
    "        ans = i.strip(\"K\")\n",
    "    else:\n",
    "        ans = i\n",
    "    empty_Value.append(ans)"
   ]
  },
  {
   "cell_type": "code",
   "execution_count": 22,
   "id": "80583cee",
   "metadata": {},
   "outputs": [],
   "source": [
    "df[\"value\"] = empty_Value"
   ]
  },
  {
   "cell_type": "code",
   "execution_count": 23,
   "id": "ece9bb43",
   "metadata": {},
   "outputs": [
    {
     "data": {
      "text/plain": [
       "0        103.5\n",
       "1           63\n",
       "2          120\n",
       "3          129\n",
       "4          132\n",
       "         ...  \n",
       "19016      100\n",
       "19017      130\n",
       "19018      120\n",
       "19019      100\n",
       "19020      100\n",
       "Name: value, Length: 19021, dtype: object"
      ]
     },
     "execution_count": 23,
     "metadata": {},
     "output_type": "execute_result"
    }
   ],
   "source": [
    "df[\"value\"]"
   ]
  },
  {
   "cell_type": "code",
   "execution_count": 24,
   "id": "e582cefc",
   "metadata": {},
   "outputs": [],
   "source": [
    "## 3. Using the astype"
   ]
  },
  {
   "cell_type": "code",
   "execution_count": 25,
   "id": "f8528d76",
   "metadata": {},
   "outputs": [],
   "source": [
    "df[\"Wage\"] = df[\"Wage\"].astype(str).str.lstrip(\"€\")"
   ]
  },
  {
   "cell_type": "code",
   "execution_count": 26,
   "id": "2bd5d82a",
   "metadata": {},
   "outputs": [
    {
     "data": {
      "text/plain": [
       "0        560K\n",
       "1        220K\n",
       "2        125K\n",
       "3        370K\n",
       "4        270K\n",
       "         ... \n",
       "19016      1K\n",
       "19017     500\n",
       "19018     500\n",
       "19019      2K\n",
       "19020      1K\n",
       "Name: Wage, Length: 19021, dtype: object"
      ]
     },
     "execution_count": 26,
     "metadata": {},
     "output_type": "execute_result"
    }
   ],
   "source": [
    "df[\"Wage\"]"
   ]
  },
  {
   "cell_type": "code",
   "execution_count": 27,
   "id": "6a854aa5",
   "metadata": {},
   "outputs": [],
   "source": [
    "df[\"Wage\"] = df[\"Wage\"].astype(str).str.rstrip(\"K\")"
   ]
  },
  {
   "cell_type": "code",
   "execution_count": 28,
   "id": "a4db7b24",
   "metadata": {},
   "outputs": [
    {
     "data": {
      "text/plain": [
       "0        560\n",
       "1        220\n",
       "2        125\n",
       "3        370\n",
       "4        270\n",
       "        ... \n",
       "19016      1\n",
       "19017    500\n",
       "19018    500\n",
       "19019      2\n",
       "19020      1\n",
       "Name: Wage, Length: 19021, dtype: object"
      ]
     },
     "execution_count": 28,
     "metadata": {},
     "output_type": "execute_result"
    }
   ],
   "source": [
    "df[\"Wage\"]"
   ]
  },
  {
   "cell_type": "code",
   "execution_count": null,
   "id": "a47dcd0b",
   "metadata": {},
   "outputs": [],
   "source": []
  }
 ],
 "metadata": {
  "kernelspec": {
   "display_name": "Python 3 (ipykernel)",
   "language": "python",
   "name": "python3"
  },
  "language_info": {
   "codemirror_mode": {
    "name": "ipython",
    "version": 3
   },
   "file_extension": ".py",
   "mimetype": "text/x-python",
   "name": "python",
   "nbconvert_exporter": "python",
   "pygments_lexer": "ipython3",
   "version": "3.10.9"
  }
 },
 "nbformat": 4,
 "nbformat_minor": 5
}
